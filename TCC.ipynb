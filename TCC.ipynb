{
  "cells": [
    {
      "cell_type": "markdown",
      "metadata": {
        "id": "xvbDpjjOi-ZA"
      },
      "source": [
        "# Inserção dos pacotes"
      ]
    },
    {
      "cell_type": "code",
      "source": [
        "pip install scikeras"
      ],
      "metadata": {
        "colab": {
          "base_uri": "https://localhost:8080/"
        },
        "id": "kkhM61AEopie",
        "outputId": "f2f2fccb-f4c6-4f58-9e47-fab0a52dc4c9"
      },
      "execution_count": null,
      "outputs": [
        {
          "output_type": "stream",
          "name": "stdout",
          "text": [
            "Requirement already satisfied: scikeras in /usr/local/lib/python3.10/dist-packages (0.12.0)\n",
            "Requirement already satisfied: packaging>=0.21 in /usr/local/lib/python3.10/dist-packages (from scikeras) (23.2)\n",
            "Requirement already satisfied: scikit-learn>=1.0.0 in /usr/local/lib/python3.10/dist-packages (from scikeras) (1.2.2)\n",
            "Requirement already satisfied: numpy>=1.17.3 in /usr/local/lib/python3.10/dist-packages (from scikit-learn>=1.0.0->scikeras) (1.23.5)\n",
            "Requirement already satisfied: scipy>=1.3.2 in /usr/local/lib/python3.10/dist-packages (from scikit-learn>=1.0.0->scikeras) (1.11.3)\n",
            "Requirement already satisfied: joblib>=1.1.1 in /usr/local/lib/python3.10/dist-packages (from scikit-learn>=1.0.0->scikeras) (1.3.2)\n",
            "Requirement already satisfied: threadpoolctl>=2.0.0 in /usr/local/lib/python3.10/dist-packages (from scikit-learn>=1.0.0->scikeras) (3.2.0)\n"
          ]
        }
      ]
    },
    {
      "cell_type": "code",
      "execution_count": null,
      "metadata": {
        "id": "LN0ZHjPqi-ZA"
      },
      "outputs": [],
      "source": [
        "from pathlib import Path\n",
        "from google.colab import drive\n",
        "import numpy as np\n",
        "import pandas as pd\n",
        "from tensorflow import keras\n",
        "from tensorflow.keras.layers import Dense, Activation, Flatten, Dropout\n",
        "import tensorflow as tf\n",
        "import matplotlib.pyplot as plt\n",
        "import sklearn.metrics as metrics\n",
        "import random as rd\n",
        "from sklearn.model_selection import train_test_split\n",
        "from scikeras.wrappers import KerasClassifier\n",
        "from sklearn.model_selection import GridSearchCV"
      ]
    },
    {
      "cell_type": "code",
      "execution_count": null,
      "metadata": {
        "id": "1N3fD1wng2l-"
      },
      "outputs": [],
      "source": [
        "# Setar a semente\n",
        "rd.seed(2023)"
      ]
    },
    {
      "cell_type": "code",
      "execution_count": null,
      "metadata": {
        "colab": {
          "base_uri": "https://localhost:8080/"
        },
        "id": "2lfdT2e8lTrA",
        "outputId": "07880726-69a1-4af2-b250-0ddfd8423e89"
      },
      "outputs": [
        {
          "output_type": "stream",
          "name": "stdout",
          "text": [
            "Drive already mounted at /content/drive; to attempt to forcibly remount, call drive.mount(\"/content/drive\", force_remount=True).\n"
          ]
        }
      ],
      "source": [
        "drive.mount('/content/drive')"
      ]
    },
    {
      "cell_type": "code",
      "execution_count": null,
      "metadata": {
        "id": "bkTKsmTBleC5"
      },
      "outputs": [],
      "source": [
        "DRIVE_PATH = Path('/content/drive/MyDrive/').resolve()\n",
        "DATA_PATH = DRIVE_PATH / 'Pessoal/Pessoal/TCC - Beto/data'"
      ]
    },
    {
      "cell_type": "markdown",
      "metadata": {
        "id": "J1Ha0CBzi-ZB"
      },
      "source": [
        "# Leitura dos dados"
      ]
    },
    {
      "cell_type": "markdown",
      "metadata": {
        "id": "Fv1bFRZXi-ZB"
      },
      "source": [
        "Os dados são referentes a ressonâncias magnéticas funcionais (fMRI) de 242 pacientes com síndrome do espectro austista (ASD) e 257 pacientes sem autismo - desenvolvimento típico (TD). As partes do cérebro foram agrupadas em 122 regiões de interesse, e foi coletado a situação de cada região ao longo do tempo, formando uma matriz bidimensional para cada paciente."
      ]
    },
    {
      "cell_type": "code",
      "execution_count": null,
      "metadata": {
        "id": "ka2oCF3ui-ZC"
      },
      "outputs": [],
      "source": [
        "def read_data(file_path):\n",
        "    data = pd.read_csv(file_path, sep=\",\", index_col=False, header = None)\n",
        "    final_data = np.array(data)\n",
        "    return final_data"
      ]
    },
    {
      "cell_type": "code",
      "execution_count": null,
      "metadata": {
        "id": "0z-HIPSai-ZC"
      },
      "outputs": [],
      "source": [
        "# dados de pacientes com autismo (ASD - autism spectrum disorder)\n",
        "asd = [\n",
        "    read_data(file_path)\n",
        "    for file_path in DATA_PATH.glob('*ASD/*.csv')\n",
        "]"
      ]
    },
    {
      "cell_type": "code",
      "execution_count": null,
      "metadata": {
        "id": "xN7QVjAyi-ZC"
      },
      "outputs": [],
      "source": [
        "# dados de pacientes sem autismo (TD - typical development)\n",
        "td = [\n",
        "    read_data(file_path)\n",
        "    for file_path in DATA_PATH.glob('*TD/*.csv')\n",
        "]"
      ]
    },
    {
      "cell_type": "markdown",
      "metadata": {
        "id": "hofWoPYvi-ZD"
      },
      "source": [
        "# Matriz de correlação"
      ]
    },
    {
      "cell_type": "markdown",
      "metadata": {
        "id": "_DVJp52ji-ZD"
      },
      "source": [
        "Após a leitura dos dados, pretende-se calcular a matriz de correlação dos dados de cada paciente, a fim de analisar a relação entre as regiões ao longo do tempo. Para a matriz de correlação, é necessário que as colunas possuam variância. Caso contrário, a matriz de correlação conterá NaN's. Então, verifica-se tal condição."
      ]
    },
    {
      "cell_type": "code",
      "source": [
        "# Função que verifica se a matriz de dados possui alguma coluna sem variância\n",
        "def verify_column(matrix):\n",
        "  result = True\n",
        "  matrix = pd.DataFrame(matrix)\n",
        "  matrix.rename(columns={x: str(int(x)) for x in range(0, 122)}, inplace=True)\n",
        "  for column_index in matrix.columns:\n",
        "    if len(matrix[column_index].unique()) == 1:\n",
        "      print(\"Column index:\", column_index)\n",
        "      print(\"Unique value:\", matrix[column_index].unique())\n",
        "      result = False\n",
        "  return result"
      ],
      "metadata": {
        "id": "fTf8LGZYxRaG"
      },
      "execution_count": null,
      "outputs": []
    },
    {
      "cell_type": "code",
      "source": [
        "# Função que exclui as colunas sem variância\n",
        "def drop_columns(matrix):\n",
        "  matrix = pd.DataFrame(matrix)\n",
        "  matrix.rename(columns={x: str(int(x)) for x in range(0, 122)}, inplace=True)\n",
        "  for column_index in matrix.columns:\n",
        "    if len(matrix[column_index].unique()) == 1:\n",
        "      matrix.drop(columns = column_index, inplace = True)\n",
        "  return matrix"
      ],
      "metadata": {
        "id": "b0BTna7DwUy6"
      },
      "execution_count": null,
      "outputs": []
    },
    {
      "cell_type": "code",
      "source": [
        "# Código para verificar quais colunas não possuem variância entre os dados\n",
        "# dos pacientes com e sem autismo\n",
        "for n in range(0, 242):\n",
        "    if not verify_column(asd[n]):\n",
        "      print(\"Observation (asd)\", n)\n",
        "      print(\"--\")\n",
        "\n",
        "for n in range(0, 258):\n",
        "    if not verify_column(td[n]):\n",
        "      print(\"Observation (td)\", n)\n",
        "      print(\"--\")"
      ],
      "metadata": {
        "colab": {
          "base_uri": "https://localhost:8080/"
        },
        "id": "_ZTzO34xaYDl",
        "outputId": "1cbf4642-b2a3-450a-f319-6bb8dfef7ff3"
      },
      "execution_count": null,
      "outputs": [
        {
          "output_type": "stream",
          "name": "stdout",
          "text": [
            "Column index: 13\n",
            "Unique value: [0.]\n",
            "Column index: 17\n",
            "Unique value: [0.]\n",
            "Column index: 45\n",
            "Unique value: [0.]\n",
            "Column index: 107\n",
            "Unique value: [0.]\n",
            "Observation (asd) 0\n",
            "--\n",
            "Column index: 13\n",
            "Unique value: [0.]\n",
            "Column index: 17\n",
            "Unique value: [0.]\n",
            "Column index: 45\n",
            "Unique value: [0.]\n",
            "Column index: 107\n",
            "Unique value: [0.]\n",
            "Observation (asd) 1\n",
            "--\n",
            "Column index: 45\n",
            "Unique value: [0.]\n",
            "Observation (asd) 2\n",
            "--\n",
            "Column index: 13\n",
            "Unique value: [0.]\n",
            "Column index: 45\n",
            "Unique value: [0.]\n",
            "Observation (asd) 3\n",
            "--\n",
            "Column index: 13\n",
            "Unique value: [0.]\n",
            "Column index: 17\n",
            "Unique value: [0.]\n",
            "Column index: 45\n",
            "Unique value: [0.]\n",
            "Column index: 107\n",
            "Unique value: [0.]\n",
            "Observation (asd) 5\n",
            "--\n",
            "Column index: 13\n",
            "Unique value: [0.]\n",
            "Column index: 17\n",
            "Unique value: [0.]\n",
            "Column index: 45\n",
            "Unique value: [0.]\n",
            "Column index: 107\n",
            "Unique value: [0.]\n",
            "Observation (asd) 6\n",
            "--\n",
            "Column index: 10\n",
            "Unique value: [0.]\n",
            "Column index: 13\n",
            "Unique value: [0.]\n",
            "Column index: 17\n",
            "Unique value: [0.]\n",
            "Column index: 45\n",
            "Unique value: [0.]\n",
            "Column index: 53\n",
            "Unique value: [0.]\n",
            "Column index: 61\n",
            "Unique value: [0.]\n",
            "Column index: 107\n",
            "Unique value: [0.]\n",
            "Observation (asd) 8\n",
            "--\n",
            "Column index: 45\n",
            "Unique value: [0.]\n",
            "Observation (asd) 12\n",
            "--\n",
            "Column index: 13\n",
            "Unique value: [0.]\n",
            "Column index: 17\n",
            "Unique value: [0.]\n",
            "Column index: 45\n",
            "Unique value: [0.]\n",
            "Column index: 107\n",
            "Unique value: [0.]\n",
            "Observation (asd) 14\n",
            "--\n",
            "Column index: 17\n",
            "Unique value: [0.]\n",
            "Column index: 45\n",
            "Unique value: [0.]\n",
            "Column index: 107\n",
            "Unique value: [0.]\n",
            "Observation (asd) 17\n",
            "--\n",
            "Column index: 13\n",
            "Unique value: [0.]\n",
            "Column index: 45\n",
            "Unique value: [0.]\n",
            "Column index: 107\n",
            "Unique value: [0.]\n",
            "Observation (asd) 19\n",
            "--\n",
            "Column index: 13\n",
            "Unique value: [0.]\n",
            "Column index: 45\n",
            "Unique value: [0.]\n",
            "Column index: 107\n",
            "Unique value: [0.]\n",
            "Observation (asd) 21\n",
            "--\n",
            "Column index: 45\n",
            "Unique value: [0.]\n",
            "Observation (asd) 23\n",
            "--\n",
            "Column index: 13\n",
            "Unique value: [0.]\n",
            "Column index: 17\n",
            "Unique value: [0.]\n",
            "Column index: 45\n",
            "Unique value: [0.]\n",
            "Column index: 107\n",
            "Unique value: [0.]\n",
            "Observation (asd) 25\n",
            "--\n",
            "Column index: 45\n",
            "Unique value: [0.]\n",
            "Observation (asd) 77\n",
            "--\n",
            "Column index: 45\n",
            "Unique value: [0.]\n",
            "Observation (asd) 82\n",
            "--\n",
            "Column index: 45\n",
            "Unique value: [0.]\n",
            "Observation (asd) 91\n",
            "--\n",
            "Column index: 45\n",
            "Unique value: [0.]\n",
            "Observation (asd) 92\n",
            "--\n",
            "Column index: 45\n",
            "Unique value: [0.]\n",
            "Observation (asd) 100\n",
            "--\n",
            "Column index: 45\n",
            "Unique value: [0.]\n",
            "Observation (asd) 110\n",
            "--\n",
            "Column index: 45\n",
            "Unique value: [0.]\n",
            "Observation (asd) 111\n",
            "--\n",
            "Column index: 45\n",
            "Unique value: [0.]\n",
            "Observation (asd) 115\n",
            "--\n",
            "Column index: 45\n",
            "Unique value: [0.]\n",
            "Observation (asd) 121\n",
            "--\n",
            "Column index: 45\n",
            "Unique value: [0.]\n",
            "Observation (asd) 124\n",
            "--\n",
            "Column index: 45\n",
            "Unique value: [0.]\n",
            "Observation (asd) 137\n",
            "--\n",
            "Column index: 45\n",
            "Unique value: [0.]\n",
            "Observation (asd) 143\n",
            "--\n",
            "Column index: 45\n",
            "Unique value: [0.]\n",
            "Observation (asd) 160\n",
            "--\n",
            "Column index: 45\n",
            "Unique value: [0.]\n",
            "Observation (asd) 161\n",
            "--\n",
            "Column index: 10\n",
            "Unique value: [0.]\n",
            "Column index: 13\n",
            "Unique value: [0.]\n",
            "Column index: 17\n",
            "Unique value: [0.]\n",
            "Column index: 45\n",
            "Unique value: [0.]\n",
            "Column index: 53\n",
            "Unique value: [0.]\n",
            "Column index: 61\n",
            "Unique value: [0.]\n",
            "Column index: 69\n",
            "Unique value: [0.]\n",
            "Column index: 107\n",
            "Unique value: [0.]\n",
            "Observation (asd) 192\n",
            "--\n",
            "Column index: 10\n",
            "Unique value: [0.]\n",
            "Column index: 13\n",
            "Unique value: [0.]\n",
            "Column index: 17\n",
            "Unique value: [0.]\n",
            "Column index: 45\n",
            "Unique value: [0.]\n",
            "Column index: 53\n",
            "Unique value: [0.]\n",
            "Column index: 61\n",
            "Unique value: [0.]\n",
            "Column index: 64\n",
            "Unique value: [0.]\n",
            "Column index: 69\n",
            "Unique value: [0.]\n",
            "Column index: 107\n",
            "Unique value: [0.]\n",
            "Observation (asd) 200\n",
            "--\n",
            "Column index: 13\n",
            "Unique value: [0.]\n",
            "Column index: 45\n",
            "Unique value: [0.]\n",
            "Column index: 107\n",
            "Unique value: [0.]\n",
            "Observation (asd) 202\n",
            "--\n",
            "Column index: 45\n",
            "Unique value: [0.]\n",
            "Observation (asd) 204\n",
            "--\n",
            "Column index: 17\n",
            "Unique value: [0.]\n",
            "Column index: 45\n",
            "Unique value: [0.]\n",
            "Observation (asd) 209\n",
            "--\n",
            "Column index: 45\n",
            "Unique value: [0.]\n",
            "Observation (asd) 214\n",
            "--\n",
            "Column index: 45\n",
            "Unique value: [0.]\n",
            "Observation (asd) 219\n",
            "--\n",
            "Column index: 13\n",
            "Unique value: [0.]\n",
            "Column index: 45\n",
            "Unique value: [0.]\n",
            "Column index: 107\n",
            "Unique value: [0.]\n",
            "Observation (td) 3\n",
            "--\n",
            "Column index: 45\n",
            "Unique value: [0.]\n",
            "Observation (td) 4\n",
            "--\n",
            "Column index: 10\n",
            "Unique value: [0.]\n",
            "Column index: 13\n",
            "Unique value: [0.]\n",
            "Column index: 17\n",
            "Unique value: [0.]\n",
            "Column index: 45\n",
            "Unique value: [0.]\n",
            "Column index: 53\n",
            "Unique value: [0.]\n",
            "Column index: 61\n",
            "Unique value: [0.]\n",
            "Column index: 64\n",
            "Unique value: [0.]\n",
            "Column index: 107\n",
            "Unique value: [0.]\n",
            "Observation (td) 5\n",
            "--\n",
            "Column index: 13\n",
            "Unique value: [0.]\n",
            "Column index: 17\n",
            "Unique value: [0.]\n",
            "Column index: 45\n",
            "Unique value: [0.]\n",
            "Column index: 107\n",
            "Unique value: [0.]\n",
            "Observation (td) 6\n",
            "--\n",
            "Column index: 13\n",
            "Unique value: [0.]\n",
            "Column index: 45\n",
            "Unique value: [0.]\n",
            "Column index: 107\n",
            "Unique value: [0.]\n",
            "Observation (td) 8\n",
            "--\n",
            "Column index: 45\n",
            "Unique value: [0.]\n",
            "Observation (td) 10\n",
            "--\n",
            "Column index: 13\n",
            "Unique value: [0.]\n",
            "Column index: 45\n",
            "Unique value: [0.]\n",
            "Observation (td) 11\n",
            "--\n",
            "Column index: 45\n",
            "Unique value: [0.]\n",
            "Observation (td) 12\n",
            "--\n",
            "Column index: 13\n",
            "Unique value: [0.]\n",
            "Column index: 17\n",
            "Unique value: [0.]\n",
            "Column index: 45\n",
            "Unique value: [0.]\n",
            "Column index: 53\n",
            "Unique value: [0.]\n",
            "Column index: 61\n",
            "Unique value: [0.]\n",
            "Column index: 107\n",
            "Unique value: [0.]\n",
            "Observation (td) 13\n",
            "--\n",
            "Column index: 13\n",
            "Unique value: [0.]\n",
            "Column index: 17\n",
            "Unique value: [0.]\n",
            "Column index: 45\n",
            "Unique value: [0.]\n",
            "Column index: 107\n",
            "Unique value: [0.]\n",
            "Observation (td) 14\n",
            "--\n",
            "Column index: 13\n",
            "Unique value: [0.]\n",
            "Column index: 17\n",
            "Unique value: [0.]\n",
            "Column index: 45\n",
            "Unique value: [0.]\n",
            "Column index: 53\n",
            "Unique value: [0.]\n",
            "Column index: 107\n",
            "Unique value: [0.]\n",
            "Observation (td) 17\n",
            "--\n",
            "Column index: 45\n",
            "Unique value: [0.]\n",
            "Observation (td) 21\n",
            "--\n",
            "Column index: 45\n",
            "Unique value: [0.]\n",
            "Observation (td) 22\n",
            "--\n",
            "Column index: 13\n",
            "Unique value: [0.]\n",
            "Column index: 17\n",
            "Unique value: [0.]\n",
            "Column index: 45\n",
            "Unique value: [0.]\n",
            "Column index: 53\n",
            "Unique value: [0.]\n",
            "Column index: 107\n",
            "Unique value: [0.]\n",
            "Observation (td) 24\n",
            "--\n",
            "Column index: 13\n",
            "Unique value: [0.]\n",
            "Column index: 17\n",
            "Unique value: [0.]\n",
            "Column index: 45\n",
            "Unique value: [0.]\n",
            "Column index: 61\n",
            "Unique value: [0.]\n",
            "Column index: 107\n",
            "Unique value: [0.]\n",
            "Observation (td) 27\n",
            "--\n",
            "Column index: 45\n",
            "Unique value: [0.]\n",
            "Observation (td) 29\n",
            "--\n",
            "Column index: 45\n",
            "Unique value: [0.]\n",
            "Observation (td) 31\n",
            "--\n",
            "Column index: 60\n",
            "Unique value: [0.]\n",
            "Column index: 65\n",
            "Unique value: [0.]\n",
            "Observation (td) 68\n",
            "--\n",
            "Column index: 69\n",
            "Unique value: [0.]\n",
            "Observation (td) 74\n",
            "--\n",
            "Column index: 45\n",
            "Unique value: [0.]\n",
            "Observation (td) 99\n",
            "--\n",
            "Column index: 45\n",
            "Unique value: [0.]\n",
            "Observation (td) 118\n",
            "--\n",
            "Column index: 17\n",
            "Unique value: [0.]\n",
            "Column index: 45\n",
            "Unique value: [0.]\n",
            "Observation (td) 125\n",
            "--\n",
            "Column index: 45\n",
            "Unique value: [0.]\n",
            "Observation (td) 129\n",
            "--\n",
            "Column index: 45\n",
            "Unique value: [0.]\n",
            "Observation (td) 130\n",
            "--\n",
            "Column index: 45\n",
            "Unique value: [0.]\n",
            "Observation (td) 140\n",
            "--\n",
            "Column index: 45\n",
            "Unique value: [0.]\n",
            "Observation (td) 142\n",
            "--\n",
            "Column index: 45\n",
            "Unique value: [0.]\n",
            "Observation (td) 145\n",
            "--\n",
            "Column index: 45\n",
            "Unique value: [0.]\n",
            "Observation (td) 148\n",
            "--\n",
            "Column index: 45\n",
            "Unique value: [0.]\n",
            "Observation (td) 154\n",
            "--\n",
            "Column index: 45\n",
            "Unique value: [0.]\n",
            "Observation (td) 176\n",
            "--\n",
            "Column index: 13\n",
            "Unique value: [0.]\n",
            "Column index: 17\n",
            "Unique value: [0.]\n",
            "Column index: 45\n",
            "Unique value: [0.]\n",
            "Column index: 53\n",
            "Unique value: [0.]\n",
            "Column index: 69\n",
            "Unique value: [0.]\n",
            "Column index: 107\n",
            "Unique value: [0.]\n",
            "Observation (td) 211\n",
            "--\n",
            "Column index: 13\n",
            "Unique value: [0.]\n",
            "Column index: 45\n",
            "Unique value: [0.]\n",
            "Column index: 107\n",
            "Unique value: [0.]\n",
            "Observation (td) 221\n",
            "--\n",
            "Column index: 45\n",
            "Unique value: [0.]\n",
            "Observation (td) 225\n",
            "--\n",
            "Column index: 45\n",
            "Unique value: [0.]\n",
            "Observation (td) 234\n",
            "--\n"
          ]
        }
      ]
    },
    {
      "cell_type": "markdown",
      "source": [
        "Como observado, há diversas colunas que não possuem variabilidade. Dessa forma, optou-se por mantê-las e aplicar 0 às entradas da matriz de correlação referente a essas colunas."
      ],
      "metadata": {
        "id": "TxnhoJnlhPHH"
      }
    },
    {
      "cell_type": "code",
      "execution_count": null,
      "metadata": {
        "id": "aCdcp_oB2B4t"
      },
      "outputs": [],
      "source": [
        "y = list()"
      ]
    },
    {
      "cell_type": "code",
      "execution_count": null,
      "metadata": {
        "id": "1BqZ56vyi-ZD",
        "colab": {
          "base_uri": "https://localhost:8080/"
        },
        "outputId": "cfd198d6-29cc-44a9-bf57-c884b79e9b16"
      },
      "outputs": [
        {
          "output_type": "stream",
          "name": "stdout",
          "text": [
            "Column index: 13\n",
            "Unique value: [0.]\n",
            "Column index: 17\n",
            "Unique value: [0.]\n",
            "Column index: 45\n",
            "Unique value: [0.]\n",
            "Column index: 107\n",
            "Unique value: [0.]\n",
            "Column index: 13\n",
            "Unique value: [0.]\n",
            "Column index: 17\n",
            "Unique value: [0.]\n",
            "Column index: 45\n",
            "Unique value: [0.]\n",
            "Column index: 107\n",
            "Unique value: [0.]\n",
            "Column index: 45\n",
            "Unique value: [0.]\n",
            "Column index: 13\n",
            "Unique value: [0.]\n",
            "Column index: 45\n",
            "Unique value: [0.]\n",
            "Column index: 13\n",
            "Unique value: [0.]\n",
            "Column index: 17\n",
            "Unique value: [0.]\n",
            "Column index: 45\n",
            "Unique value: [0.]\n",
            "Column index: 107\n",
            "Unique value: [0.]\n",
            "Column index: 13\n",
            "Unique value: [0.]\n",
            "Column index: 17\n",
            "Unique value: [0.]\n",
            "Column index: 45\n",
            "Unique value: [0.]\n",
            "Column index: 107\n",
            "Unique value: [0.]\n",
            "Column index: 10\n",
            "Unique value: [0.]\n",
            "Column index: 13\n",
            "Unique value: [0.]\n",
            "Column index: 17\n",
            "Unique value: [0.]\n",
            "Column index: 45\n",
            "Unique value: [0.]\n",
            "Column index: 53\n",
            "Unique value: [0.]\n",
            "Column index: 61\n",
            "Unique value: [0.]\n",
            "Column index: 107\n",
            "Unique value: [0.]\n",
            "Column index: 45\n",
            "Unique value: [0.]\n",
            "Column index: 13\n",
            "Unique value: [0.]\n",
            "Column index: 17\n",
            "Unique value: [0.]\n",
            "Column index: 45\n",
            "Unique value: [0.]\n",
            "Column index: 107\n",
            "Unique value: [0.]\n",
            "Column index: 17\n",
            "Unique value: [0.]\n",
            "Column index: 45\n",
            "Unique value: [0.]\n",
            "Column index: 107\n",
            "Unique value: [0.]\n",
            "Column index: 13\n",
            "Unique value: [0.]\n",
            "Column index: 45\n",
            "Unique value: [0.]\n",
            "Column index: 107\n",
            "Unique value: [0.]\n",
            "Column index: 13\n",
            "Unique value: [0.]\n",
            "Column index: 45\n",
            "Unique value: [0.]\n",
            "Column index: 107\n",
            "Unique value: [0.]\n",
            "Column index: 45\n",
            "Unique value: [0.]\n",
            "Column index: 13\n",
            "Unique value: [0.]\n",
            "Column index: 17\n",
            "Unique value: [0.]\n",
            "Column index: 45\n",
            "Unique value: [0.]\n",
            "Column index: 107\n",
            "Unique value: [0.]\n",
            "Column index: 45\n",
            "Unique value: [0.]\n",
            "Column index: 45\n",
            "Unique value: [0.]\n",
            "Column index: 45\n",
            "Unique value: [0.]\n",
            "Column index: 45\n",
            "Unique value: [0.]\n",
            "Column index: 45\n",
            "Unique value: [0.]\n",
            "Column index: 45\n",
            "Unique value: [0.]\n",
            "Column index: 45\n",
            "Unique value: [0.]\n",
            "Column index: 45\n",
            "Unique value: [0.]\n",
            "Column index: 45\n",
            "Unique value: [0.]\n",
            "Column index: 45\n",
            "Unique value: [0.]\n",
            "Column index: 45\n",
            "Unique value: [0.]\n",
            "Column index: 45\n",
            "Unique value: [0.]\n",
            "Column index: 45\n",
            "Unique value: [0.]\n",
            "Column index: 45\n",
            "Unique value: [0.]\n",
            "Column index: 10\n",
            "Unique value: [0.]\n",
            "Column index: 13\n",
            "Unique value: [0.]\n",
            "Column index: 17\n",
            "Unique value: [0.]\n",
            "Column index: 45\n",
            "Unique value: [0.]\n",
            "Column index: 53\n",
            "Unique value: [0.]\n",
            "Column index: 61\n",
            "Unique value: [0.]\n",
            "Column index: 69\n",
            "Unique value: [0.]\n",
            "Column index: 107\n",
            "Unique value: [0.]\n",
            "Column index: 10\n",
            "Unique value: [0.]\n",
            "Column index: 13\n",
            "Unique value: [0.]\n",
            "Column index: 17\n",
            "Unique value: [0.]\n",
            "Column index: 45\n",
            "Unique value: [0.]\n",
            "Column index: 53\n",
            "Unique value: [0.]\n",
            "Column index: 61\n",
            "Unique value: [0.]\n",
            "Column index: 64\n",
            "Unique value: [0.]\n",
            "Column index: 69\n",
            "Unique value: [0.]\n",
            "Column index: 107\n",
            "Unique value: [0.]\n",
            "Column index: 13\n",
            "Unique value: [0.]\n",
            "Column index: 45\n",
            "Unique value: [0.]\n",
            "Column index: 107\n",
            "Unique value: [0.]\n",
            "Column index: 45\n",
            "Unique value: [0.]\n",
            "Column index: 17\n",
            "Unique value: [0.]\n",
            "Column index: 45\n",
            "Unique value: [0.]\n",
            "Column index: 45\n",
            "Unique value: [0.]\n",
            "Column index: 45\n",
            "Unique value: [0.]\n"
          ]
        }
      ],
      "source": [
        "asd_data_corr = list()\n",
        "for n in range(0, 242):\n",
        "  asd_data = pd.DataFrame(asd[n])\n",
        "  #asd_data.drop(columns = [45, 17, 13, 107, 10, 60, 53, 61, 64, 69], inplace = True)\n",
        "  #if not verify_column(np.array(asd_data)):\n",
        "  #  break\n",
        "  obs_asd_data_corr = asd_data.corr(method = \"spearman\")\n",
        "  #obs_asd_data_corr.to_csv(DATA_PATH / f'correlation/ASD/ASD{n}.csv', index = None)\n",
        "  asd_data_corr.append(obs_asd_data_corr)\n",
        "  y.append(1)"
      ]
    },
    {
      "cell_type": "code",
      "execution_count": null,
      "metadata": {
        "id": "gIen7ddti-ZD",
        "colab": {
          "base_uri": "https://localhost:8080/"
        },
        "outputId": "8035dbda-7cd2-49a4-fe13-a3a6354d2431"
      },
      "outputs": [
        {
          "output_type": "stream",
          "name": "stdout",
          "text": [
            "Column index: 13\n",
            "Unique value: [0.]\n",
            "Column index: 45\n",
            "Unique value: [0.]\n",
            "Column index: 107\n",
            "Unique value: [0.]\n",
            "Column index: 45\n",
            "Unique value: [0.]\n",
            "Column index: 10\n",
            "Unique value: [0.]\n",
            "Column index: 13\n",
            "Unique value: [0.]\n",
            "Column index: 17\n",
            "Unique value: [0.]\n",
            "Column index: 45\n",
            "Unique value: [0.]\n",
            "Column index: 53\n",
            "Unique value: [0.]\n",
            "Column index: 61\n",
            "Unique value: [0.]\n",
            "Column index: 64\n",
            "Unique value: [0.]\n",
            "Column index: 107\n",
            "Unique value: [0.]\n",
            "Column index: 13\n",
            "Unique value: [0.]\n",
            "Column index: 17\n",
            "Unique value: [0.]\n",
            "Column index: 45\n",
            "Unique value: [0.]\n",
            "Column index: 107\n",
            "Unique value: [0.]\n",
            "Column index: 13\n",
            "Unique value: [0.]\n",
            "Column index: 45\n",
            "Unique value: [0.]\n",
            "Column index: 107\n",
            "Unique value: [0.]\n",
            "Column index: 45\n",
            "Unique value: [0.]\n",
            "Column index: 13\n",
            "Unique value: [0.]\n",
            "Column index: 45\n",
            "Unique value: [0.]\n",
            "Column index: 45\n",
            "Unique value: [0.]\n",
            "Column index: 13\n",
            "Unique value: [0.]\n",
            "Column index: 17\n",
            "Unique value: [0.]\n",
            "Column index: 45\n",
            "Unique value: [0.]\n",
            "Column index: 53\n",
            "Unique value: [0.]\n",
            "Column index: 61\n",
            "Unique value: [0.]\n",
            "Column index: 107\n",
            "Unique value: [0.]\n",
            "Column index: 13\n",
            "Unique value: [0.]\n",
            "Column index: 17\n",
            "Unique value: [0.]\n",
            "Column index: 45\n",
            "Unique value: [0.]\n",
            "Column index: 107\n",
            "Unique value: [0.]\n",
            "Column index: 13\n",
            "Unique value: [0.]\n",
            "Column index: 17\n",
            "Unique value: [0.]\n",
            "Column index: 45\n",
            "Unique value: [0.]\n",
            "Column index: 53\n",
            "Unique value: [0.]\n",
            "Column index: 107\n",
            "Unique value: [0.]\n",
            "Column index: 45\n",
            "Unique value: [0.]\n",
            "Column index: 45\n",
            "Unique value: [0.]\n",
            "Column index: 13\n",
            "Unique value: [0.]\n",
            "Column index: 17\n",
            "Unique value: [0.]\n",
            "Column index: 45\n",
            "Unique value: [0.]\n",
            "Column index: 53\n",
            "Unique value: [0.]\n",
            "Column index: 107\n",
            "Unique value: [0.]\n",
            "Column index: 13\n",
            "Unique value: [0.]\n",
            "Column index: 17\n",
            "Unique value: [0.]\n",
            "Column index: 45\n",
            "Unique value: [0.]\n",
            "Column index: 61\n",
            "Unique value: [0.]\n",
            "Column index: 107\n",
            "Unique value: [0.]\n",
            "Column index: 45\n",
            "Unique value: [0.]\n",
            "Column index: 45\n",
            "Unique value: [0.]\n",
            "Column index: 60\n",
            "Unique value: [0.]\n",
            "Column index: 65\n",
            "Unique value: [0.]\n",
            "Column index: 69\n",
            "Unique value: [0.]\n",
            "Column index: 45\n",
            "Unique value: [0.]\n",
            "Column index: 45\n",
            "Unique value: [0.]\n",
            "Column index: 17\n",
            "Unique value: [0.]\n",
            "Column index: 45\n",
            "Unique value: [0.]\n",
            "Column index: 45\n",
            "Unique value: [0.]\n",
            "Column index: 45\n",
            "Unique value: [0.]\n",
            "Column index: 45\n",
            "Unique value: [0.]\n",
            "Column index: 45\n",
            "Unique value: [0.]\n",
            "Column index: 45\n",
            "Unique value: [0.]\n",
            "Column index: 45\n",
            "Unique value: [0.]\n",
            "Column index: 45\n",
            "Unique value: [0.]\n",
            "Column index: 45\n",
            "Unique value: [0.]\n",
            "Column index: 13\n",
            "Unique value: [0.]\n",
            "Column index: 17\n",
            "Unique value: [0.]\n",
            "Column index: 45\n",
            "Unique value: [0.]\n",
            "Column index: 53\n",
            "Unique value: [0.]\n",
            "Column index: 69\n",
            "Unique value: [0.]\n",
            "Column index: 107\n",
            "Unique value: [0.]\n",
            "Column index: 13\n",
            "Unique value: [0.]\n",
            "Column index: 45\n",
            "Unique value: [0.]\n",
            "Column index: 107\n",
            "Unique value: [0.]\n",
            "Column index: 45\n",
            "Unique value: [0.]\n",
            "Column index: 45\n",
            "Unique value: [0.]\n"
          ]
        }
      ],
      "source": [
        "td_data_corr = list()\n",
        "for n in range(0, 258):\n",
        "  td_data = pd.DataFrame(td[n])\n",
        "  #td_data.drop(columns = [45, 17, 13, 107, 10, 60, 53, 61, 64, 69], inplace = True)\n",
        "  #if not verify_column(np.array(td_data)):\n",
        "  #    break\n",
        "  obs_td_data_corr = td_data.corr(method = \"spearman\")\n",
        "  #obs_td_data_corr.to_csv(DATA_PATH / f'correlation/TD/TD{n}.csv', index = None)\n",
        "  td_data_corr.append(obs_td_data_corr)\n",
        "  y.append(0)"
      ]
    },
    {
      "cell_type": "markdown",
      "source": [
        "Na sequência, junta-se as matrizes observadas para os pacientes com e sem autismo e aplica-se uma transformação para que os valores pertençam ao intervalo [0, 1]."
      ],
      "metadata": {
        "id": "tOa0TklGdaKc"
      }
    },
    {
      "cell_type": "code",
      "execution_count": null,
      "metadata": {
        "id": "gCMWwfOP2aVl"
      },
      "outputs": [],
      "source": [
        "X = np.array(asd_data_corr + td_data_corr)"
      ]
    },
    {
      "cell_type": "code",
      "source": [
        "X[np.isnan(X)] = 0"
      ],
      "metadata": {
        "id": "_V5EUt1Pb_39"
      },
      "execution_count": null,
      "outputs": []
    },
    {
      "cell_type": "code",
      "source": [
        "np.shape(X)"
      ],
      "metadata": {
        "colab": {
          "base_uri": "https://localhost:8080/"
        },
        "id": "xF8aatUC52lD",
        "outputId": "1a9e9544-c1b4-4101-96e4-c8ac10a49ca9"
      },
      "execution_count": null,
      "outputs": [
        {
          "output_type": "execute_result",
          "data": {
            "text/plain": [
              "(499, 122, 122)"
            ]
          },
          "metadata": {},
          "execution_count": 17
        }
      ]
    },
    {
      "cell_type": "code",
      "execution_count": null,
      "metadata": {
        "id": "R_lYnhTZ7YtO"
      },
      "outputs": [],
      "source": [
        "X_transf = np.sqrt(1 + X)/np.sqrt(2)"
      ]
    },
    {
      "cell_type": "code",
      "execution_count": null,
      "metadata": {
        "id": "sYAModi72L4W"
      },
      "outputs": [],
      "source": [
        "y = np.array(y)"
      ]
    },
    {
      "cell_type": "markdown",
      "source": [
        "Divide-se os dados entre treino - 75% - e teste - 25%."
      ],
      "metadata": {
        "id": "A0WVYsy1dx5G"
      }
    },
    {
      "cell_type": "code",
      "execution_count": null,
      "metadata": {
        "id": "u03i8Zup31fM"
      },
      "outputs": [],
      "source": [
        "X_train, X_test, y_train, y_test = train_test_split(X_transf, y, test_size=0.25, random_state=1234)"
      ]
    },
    {
      "cell_type": "markdown",
      "source": [
        "E considera-se o vetor de resposta como categórico."
      ],
      "metadata": {
        "id": "ELqQaS3oeG3y"
      }
    },
    {
      "cell_type": "code",
      "execution_count": null,
      "metadata": {
        "id": "YggDuqxv_RdG"
      },
      "outputs": [],
      "source": [
        "input_shape = (122, 122, 1)\n",
        "num_classes = 2"
      ]
    },
    {
      "cell_type": "code",
      "execution_count": null,
      "metadata": {
        "id": "pcRbkFnK629k"
      },
      "outputs": [],
      "source": [
        "y_train_categorical = keras.utils.to_categorical(y_train, num_classes)\n",
        "y_test_categorical = keras.utils.to_categorical(y_test, num_classes)"
      ]
    },
    {
      "cell_type": "markdown",
      "metadata": {
        "id": "4SMo8qVDnQ1x"
      },
      "source": [
        "# Tunando o número de camadas"
      ]
    },
    {
      "cell_type": "code",
      "execution_count": null,
      "metadata": {
        "id": "5-AmNscjnVP8"
      },
      "outputs": [],
      "source": [
        "def create_model(layers, activation):\n",
        "        model= keras.Sequential()\n",
        "        for i, nodes in enumerate(layers):\n",
        "            if i==0:\n",
        "                model.add(Dense(nodes, input_shape = input_shape))\n",
        "                model.add(Activation(activation))\n",
        "            else:\n",
        "                model.add(Dense(nodes))\n",
        "                model.add(Activation(activation))\n",
        "        model.add(Flatten())\n",
        "        model.add(Dropout(0.5))\n",
        "        model.add(Dense(2))\n",
        "        model.add(Activation(activation))\n",
        "\n",
        "        model.compile(optimizer='adam', loss='binary_crossentropy', metrics=['accuracy'])\n",
        "        return model\n",
        "\n",
        "model= KerasClassifier(model=create_model, verbose=0, activation='relu', layers=20)"
      ]
    },
    {
      "cell_type": "code",
      "execution_count": null,
      "metadata": {
        "id": "kGvX4Sdko-AA"
      },
      "outputs": [],
      "source": [
        "layers=[[50],[50, 25]]\n",
        "activations = [\"relu\", \"softmax\"]\n",
        "param_grid = dict(layers=layers, activation=[\"relu\"], batch_size=[100, 50], epochs=[5, 10])\n",
        "grid = GridSearchCV(estimator=model, param_grid=param_grid)\n",
        "#grid_result = grid.fit(X_train, y_train_categorical)"
      ]
    },
    {
      "cell_type": "code",
      "execution_count": null,
      "metadata": {
        "id": "m2GJNY23VTZu"
      },
      "outputs": [],
      "source": [
        "#[grid_result.best_score_,grid_result.best_params_]"
      ]
    },
    {
      "cell_type": "markdown",
      "metadata": {
        "id": "LAqeJlUEi-ZE"
      },
      "source": [
        "# Treino da rede neural"
      ]
    },
    {
      "cell_type": "markdown",
      "metadata": {
        "id": "FUntkwL1i-ZE"
      },
      "source": [
        "A partir da matriz de correlação, treina-se uma rede neural com duas camadas ocultas, e 50 e 25 filtros, utilizando a função de ativação \"relu\". A camada de saíde possui 2 filtros, um para cada categoria, e utiliza-se a função de ativação \"softmax\". Além disso, usa-se tamanho 100 para o tamanho do lote (batch size) e 10 épocas (epochs). A função de perda utilizada é a entropia binária (binary_crossentropy) e a métrica, a área sob a curva ROC (AUC)."
      ]
    },
    {
      "cell_type": "code",
      "execution_count": null,
      "metadata": {
        "colab": {
          "base_uri": "https://localhost:8080/"
        },
        "id": "McTePEsy0FPN",
        "outputId": "5532ccfe-3fb6-45cd-a128-e280fadc88ef"
      },
      "outputs": [
        {
          "output_type": "stream",
          "name": "stdout",
          "text": [
            "Model: \"sequential\"\n",
            "_________________________________________________________________\n",
            " Layer (type)                Output Shape              Param #   \n",
            "=================================================================\n",
            " dense (Dense)               (None, 122, 122, 50)      100       \n",
            "                                                                 \n",
            " dense_1 (Dense)             (None, 122, 122, 25)      1275      \n",
            "                                                                 \n",
            " flatten (Flatten)           (None, 372100)            0         \n",
            "                                                                 \n",
            " dropout (Dropout)           (None, 372100)            0         \n",
            "                                                                 \n",
            " dense_2 (Dense)             (None, 2)                 744202    \n",
            "                                                                 \n",
            "=================================================================\n",
            "Total params: 745577 (2.84 MB)\n",
            "Trainable params: 745577 (2.84 MB)\n",
            "Non-trainable params: 0 (0.00 Byte)\n",
            "_________________________________________________________________\n"
          ]
        }
      ],
      "source": [
        "model = keras.Sequential(\n",
        "    [\n",
        "        keras.Input(shape=input_shape),\n",
        "        Dense(50, activation=\"relu\"),\n",
        "        Dense(25, activation=\"relu\"),\n",
        "        Flatten(),\n",
        "        Dropout(0.5),\n",
        "        Dense(2, activation=\"softmax\"),\n",
        "    ]\n",
        ")\n",
        "\n",
        "model.summary()"
      ]
    },
    {
      "cell_type": "code",
      "execution_count": null,
      "metadata": {
        "colab": {
          "base_uri": "https://localhost:8080/"
        },
        "id": "9o9ru9j_43e0",
        "outputId": "7db5769b-83bd-41a8-9bed-a0f4712d2886"
      },
      "outputs": [
        {
          "output_type": "stream",
          "name": "stdout",
          "text": [
            "Epoch 1/10\n",
            "3/3 [==============================] - 9s 3s/step - loss: 3.7575 - auc: 0.4682 - val_loss: 5.1621 - val_auc: 0.6034\n",
            "Epoch 2/10\n",
            "3/3 [==============================] - 9s 3s/step - loss: 4.9123 - auc: 0.4957 - val_loss: 3.9540 - val_auc: 0.5310\n",
            "Epoch 3/10\n",
            "3/3 [==============================] - 6s 2s/step - loss: 3.0540 - auc: 0.4825 - val_loss: 3.0063 - val_auc: 0.4690\n",
            "Epoch 4/10\n",
            "3/3 [==============================] - 10s 3s/step - loss: 2.9660 - auc: 0.4981 - val_loss: 1.7534 - val_auc: 0.4690\n",
            "Epoch 5/10\n",
            "3/3 [==============================] - 6s 2s/step - loss: 1.1682 - auc: 0.5163 - val_loss: 1.6140 - val_auc: 0.5310\n",
            "Epoch 6/10\n",
            "3/3 [==============================] - 8s 3s/step - loss: 1.7588 - auc: 0.5038 - val_loss: 1.0260 - val_auc: 0.5991\n",
            "Epoch 7/10\n",
            "3/3 [==============================] - 5s 2s/step - loss: 0.8134 - auc: 0.5591 - val_loss: 0.9545 - val_auc: 0.4362\n",
            "Epoch 8/10\n",
            "3/3 [==============================] - 6s 2s/step - loss: 1.0405 - auc: 0.4880 - val_loss: 1.0916 - val_auc: 0.4236\n",
            "Epoch 9/10\n",
            "3/3 [==============================] - 8s 3s/step - loss: 0.9332 - auc: 0.5218 - val_loss: 0.7436 - val_auc: 0.4614\n",
            "Epoch 10/10\n",
            "3/3 [==============================] - 5s 2s/step - loss: 0.7175 - auc: 0.5227 - val_loss: 0.7096 - val_auc: 0.6169\n"
          ]
        }
      ],
      "source": [
        "batch_size = 100\n",
        "epochs = 10\n",
        "\n",
        "model.compile(loss=\"binary_crossentropy\", optimizer=\"adam\", metrics=[\"AUC\"])\n",
        "\n",
        "model_history = model.fit(X_train, y_train_categorical, batch_size=batch_size, epochs=epochs, validation_split=0.3)"
      ]
    },
    {
      "cell_type": "markdown",
      "metadata": {
        "id": "M_xHV72zi-ZE"
      },
      "source": [
        "# Análise"
      ]
    },
    {
      "cell_type": "markdown",
      "metadata": {
        "id": "lgApmDqKi-ZE"
      },
      "source": [
        "Em seguida, analisa-se a matriz de confusão e a curva ROC, além de métricas como AUC, recall, F1 e precisão baseando-se na predição do diagnóstico dos dados de teste."
      ]
    },
    {
      "cell_type": "code",
      "source": [
        "# Código para tomar somente a probabilidade predita do diagnóstico positivo para autismo\n",
        "y_pred_prob_vector = model.predict(X_test)\n",
        "y_pred_prob = list()\n",
        "for i in range(len(y_test)):\n",
        "    y_pred_prob.append(y_pred_prob_vector[i][1])"
      ],
      "metadata": {
        "colab": {
          "base_uri": "https://localhost:8080/"
        },
        "id": "aKbIhfv4nNdE",
        "outputId": "31769972-a99a-4535-eb55-1c3c31ebea84"
      },
      "execution_count": null,
      "outputs": [
        {
          "output_type": "stream",
          "name": "stdout",
          "text": [
            "4/4 [==============================] - 1s 209ms/step\n"
          ]
        }
      ]
    },
    {
      "cell_type": "code",
      "execution_count": null,
      "metadata": {
        "id": "FNOR0jEYAbOL"
      },
      "outputs": [],
      "source": [
        "# Função para prever o diagnóstico utilizando determinado ponto de corte\n",
        "def predict_value(y_predicted, threshold = 0.5):\n",
        "    y = list()\n",
        "    for index in range(len(y_predicted)):\n",
        "      if y_predicted[index][0] > threshold:\n",
        "        y.append(0)\n",
        "      else:\n",
        "        y.append(1)\n",
        "    return np.array(y)"
      ]
    },
    {
      "cell_type": "code",
      "source": [
        "model.predict(X_test)"
      ],
      "metadata": {
        "colab": {
          "base_uri": "https://localhost:8080/"
        },
        "id": "9QedMUnh67NB",
        "outputId": "b072123e-3ccd-4068-d43c-73c9ea98e7c2"
      },
      "execution_count": null,
      "outputs": [
        {
          "output_type": "stream",
          "name": "stdout",
          "text": [
            "4/4 [==============================] - 1s 204ms/step\n"
          ]
        },
        {
          "output_type": "execute_result",
          "data": {
            "text/plain": [
              "array([[0.74203455, 0.25796545],\n",
              "       [0.75716937, 0.24283054],\n",
              "       [0.75482553, 0.24517453],\n",
              "       [0.7101891 , 0.2898109 ],\n",
              "       [0.7704659 , 0.22953403],\n",
              "       [0.7627048 , 0.23729521],\n",
              "       [0.7439495 , 0.25605047],\n",
              "       [0.75246966, 0.24753045],\n",
              "       [0.76013803, 0.23986198],\n",
              "       [0.7530828 , 0.24691716],\n",
              "       [0.7343824 , 0.26561758],\n",
              "       [0.7382367 , 0.26176333],\n",
              "       [0.7418052 , 0.25819474],\n",
              "       [0.74148905, 0.2585109 ],\n",
              "       [0.75315   , 0.24684998],\n",
              "       [0.7334091 , 0.26659092],\n",
              "       [0.75429857, 0.24570131],\n",
              "       [0.7539337 , 0.24606629],\n",
              "       [0.75915134, 0.24084865],\n",
              "       [0.7605132 , 0.23948674],\n",
              "       [0.75422966, 0.24577022],\n",
              "       [0.74258035, 0.2574196 ],\n",
              "       [0.7459509 , 0.25404906],\n",
              "       [0.73071724, 0.26928273],\n",
              "       [0.7485896 , 0.25141042],\n",
              "       [0.74319017, 0.25680983],\n",
              "       [0.72676814, 0.27323174],\n",
              "       [0.73036945, 0.26963055],\n",
              "       [0.7579891 , 0.24201085],\n",
              "       [0.726523  , 0.273477  ],\n",
              "       [0.7231666 , 0.27683344],\n",
              "       [0.72549045, 0.27450952],\n",
              "       [0.773687  , 0.22631288],\n",
              "       [0.7408154 , 0.2591846 ],\n",
              "       [0.7431424 , 0.2568576 ],\n",
              "       [0.7703292 , 0.22967082],\n",
              "       [0.7345945 , 0.26540548],\n",
              "       [0.75858855, 0.24141131],\n",
              "       [0.7469566 , 0.25304335],\n",
              "       [0.7375429 , 0.26245698],\n",
              "       [0.74637437, 0.25362566],\n",
              "       [0.74670297, 0.2532971 ],\n",
              "       [0.73194027, 0.26805973],\n",
              "       [0.7363276 , 0.26367238],\n",
              "       [0.7373643 , 0.2626357 ],\n",
              "       [0.77264845, 0.22735165],\n",
              "       [0.7339918 , 0.2660082 ],\n",
              "       [0.7610849 , 0.2389151 ],\n",
              "       [0.74414754, 0.25585252],\n",
              "       [0.73732024, 0.26267976],\n",
              "       [0.7294248 , 0.27057523],\n",
              "       [0.72860765, 0.27139235],\n",
              "       [0.74506223, 0.2549378 ],\n",
              "       [0.7420976 , 0.25790235],\n",
              "       [0.75682914, 0.24317086],\n",
              "       [0.7452988 , 0.2547013 ],\n",
              "       [0.7423303 , 0.25766966],\n",
              "       [0.73473454, 0.2652655 ],\n",
              "       [0.7374425 , 0.26255748],\n",
              "       [0.7432743 , 0.25672573],\n",
              "       [0.73341507, 0.26658487],\n",
              "       [0.72863257, 0.27136746],\n",
              "       [0.7627833 , 0.23721667],\n",
              "       [0.75827044, 0.24172954],\n",
              "       [0.76405865, 0.23594132],\n",
              "       [0.74979556, 0.2502044 ],\n",
              "       [0.74347275, 0.25652725],\n",
              "       [0.74938387, 0.25061613],\n",
              "       [0.735399  , 0.26460096],\n",
              "       [0.720638  , 0.279362  ],\n",
              "       [0.74170923, 0.25829083],\n",
              "       [0.77711517, 0.22288477],\n",
              "       [0.725576  , 0.27442393],\n",
              "       [0.74438363, 0.25561634],\n",
              "       [0.7354139 , 0.26458603],\n",
              "       [0.7509719 , 0.24902807],\n",
              "       [0.73979264, 0.26020724],\n",
              "       [0.7387931 , 0.26120687],\n",
              "       [0.78124774, 0.21875224],\n",
              "       [0.733719  , 0.26628095],\n",
              "       [0.74321145, 0.25678852],\n",
              "       [0.75831103, 0.24168895],\n",
              "       [0.7245781 , 0.2754219 ],\n",
              "       [0.77211624, 0.2278837 ],\n",
              "       [0.76617163, 0.23382829],\n",
              "       [0.7342042 , 0.2657957 ],\n",
              "       [0.75299025, 0.24700965],\n",
              "       [0.76275575, 0.23724417],\n",
              "       [0.7509508 , 0.24904923],\n",
              "       [0.7387225 , 0.2612775 ],\n",
              "       [0.7206276 , 0.27937236],\n",
              "       [0.7345755 , 0.2654245 ],\n",
              "       [0.7552645 , 0.24473551],\n",
              "       [0.7416957 , 0.25830427],\n",
              "       [0.72988284, 0.27011722],\n",
              "       [0.75761425, 0.24238577],\n",
              "       [0.7383531 , 0.26164696],\n",
              "       [0.7256111 , 0.27438885],\n",
              "       [0.72311383, 0.2768862 ],\n",
              "       [0.76790607, 0.23209384],\n",
              "       [0.74168783, 0.25831214],\n",
              "       [0.74195886, 0.25804117],\n",
              "       [0.7432919 , 0.25670806],\n",
              "       [0.755128  , 0.24487202],\n",
              "       [0.7372682 , 0.26273185],\n",
              "       [0.7446412 , 0.2553588 ],\n",
              "       [0.7445871 , 0.25541285],\n",
              "       [0.74106157, 0.25893843],\n",
              "       [0.73260385, 0.26739612],\n",
              "       [0.7692616 , 0.23073834],\n",
              "       [0.7310542 , 0.26894587],\n",
              "       [0.75530577, 0.2446943 ],\n",
              "       [0.74889654, 0.25110346],\n",
              "       [0.7369704 , 0.26302963],\n",
              "       [0.74856156, 0.2514384 ],\n",
              "       [0.74187887, 0.25812107],\n",
              "       [0.73573416, 0.26426584],\n",
              "       [0.74271667, 0.25728333],\n",
              "       [0.7484905 , 0.25150937],\n",
              "       [0.751832  , 0.24816796],\n",
              "       [0.7553959 , 0.2446041 ],\n",
              "       [0.7685272 , 0.23147279],\n",
              "       [0.74954987, 0.25045013],\n",
              "       [0.7663983 , 0.23360172],\n",
              "       [0.7326587 , 0.26734132]], dtype=float32)"
            ]
          },
          "metadata": {},
          "execution_count": 40
        }
      ]
    },
    {
      "cell_type": "code",
      "execution_count": null,
      "metadata": {
        "colab": {
          "base_uri": "https://localhost:8080/"
        },
        "id": "QL5dSTrHijJt",
        "outputId": "6055d1a0-3fb8-4695-93ca-a5b7762de06e"
      },
      "outputs": [
        {
          "output_type": "stream",
          "name": "stdout",
          "text": [
            "4/4 [==============================] - 2s 551ms/step\n"
          ]
        }
      ],
      "source": [
        "y_pred = predict_value(model.predict(X_test), 0.73)"
      ]
    },
    {
      "cell_type": "markdown",
      "source": [
        "## Curva ROC"
      ],
      "metadata": {
        "id": "Os4O-p9bgR6g"
      }
    },
    {
      "cell_type": "code",
      "execution_count": null,
      "metadata": {
        "colab": {
          "base_uri": "https://localhost:8080/",
          "height": 469
        },
        "id": "8rWDmJvf6nuR",
        "outputId": "f7a351bb-77ba-47da-bbbe-a4fc2e83d77f"
      },
      "outputs": [
        {
          "output_type": "execute_result",
          "data": {
            "text/plain": [
              "[<matplotlib.lines.Line2D at 0x7e2d42e7d1b0>]"
            ]
          },
          "metadata": {},
          "execution_count": 42
        },
        {
          "output_type": "display_data",
          "data": {
            "text/plain": [
              "<Figure size 640x480 with 1 Axes>"
            ],
            "image/png": "[encoded data removed]"
          },
          "metadata": {}
        }
      ],
      "source": [
        "fpr, tpr, threshold = metrics.roc_curve(y_test, y_pred_prob)\n",
        "roc_auc = metrics.auc(fpr, tpr)\n",
        "\n",
        "plt.title('Receiver Operating Characteristic')\n",
        "plt.plot(fpr, tpr, 'b', label = 'AUC = %0.2f' % roc_auc)\n",
        "plt.legend(loc = 'lower right')\n",
        "plt.plot([0, 1], [0, 1],'r--')"
      ]
    },
    {
      "cell_type": "markdown",
      "source": [
        "## Matriz de confusão"
      ],
      "metadata": {
        "id": "IOVOmCEdgf0V"
      }
    },
    {
      "cell_type": "code",
      "execution_count": null,
      "metadata": {
        "colab": {
          "base_uri": "https://localhost:8080/"
        },
        "id": "q11c-oeWXtuO",
        "outputId": "dae10728-e89a-479c-a399-181104c99b80"
      },
      "outputs": [
        {
          "output_type": "execute_result",
          "data": {
            "text/plain": [
              "array([[59,  7],\n",
              "       [51,  8]])"
            ]
          },
          "metadata": {},
          "execution_count": 44
        }
      ],
      "source": [
        "metrics.confusion_matrix(y_test, y_pred)"
      ]
    },
    {
      "cell_type": "markdown",
      "source": [
        "## Recall = $\\frac{VP}{VP + FN}$\n",
        "em que VP: verdadeiros positivos e FN: falsos negativos. Ou seja, é a proporção de acertos entre todos os valores verdadeiramente positivos (com autismo)\n"
      ],
      "metadata": {
        "id": "fWqQEuUpgh_p"
      }
    },
    {
      "cell_type": "code",
      "execution_count": null,
      "metadata": {
        "colab": {
          "base_uri": "https://localhost:8080/"
        },
        "id": "DMruj9asjDNE",
        "outputId": "44d6d847-0e43-4aa4-be4e-c0f89826fa72"
      },
      "outputs": [
        {
          "output_type": "execute_result",
          "data": {
            "text/plain": [
              "0.13559322033898305"
            ]
          },
          "metadata": {},
          "execution_count": 50
        }
      ],
      "source": [
        "metrics.recall_score(y_test, y_pred)"
      ]
    },
    {
      "cell_type": "markdown",
      "source": [
        "## Precisão = $\\frac{VP}{VP + FP}$\n",
        "em que VP: verdadeiros positivos e FP: falsos positivos. Ou seja, é a proporção de acertos entre todos os valores preditos positivos (com autismo)"
      ],
      "metadata": {
        "id": "VxUY2e4zgpiJ"
      }
    },
    {
      "cell_type": "code",
      "execution_count": null,
      "metadata": {
        "colab": {
          "base_uri": "https://localhost:8080/"
        },
        "id": "d2qri4VRjesH",
        "outputId": "73fb3d0a-7028-4d08-f313-d91293a5c20f"
      },
      "outputs": [
        {
          "output_type": "execute_result",
          "data": {
            "text/plain": [
              "0.5333333333333333"
            ]
          },
          "metadata": {},
          "execution_count": 47
        }
      ],
      "source": [
        "metrics.precision_score(y_test, y_pred)"
      ]
    },
    {
      "cell_type": "markdown",
      "source": [
        "## F$_1 = 2 * \\frac{\\text{precisão } * \\text{ recall}}{\\text{precisão } + \\text{ recall}}$"
      ],
      "metadata": {
        "id": "elFaOXVvgjdB"
      }
    },
    {
      "cell_type": "code",
      "execution_count": null,
      "metadata": {
        "colab": {
          "base_uri": "https://localhost:8080/"
        },
        "id": "VdN3-BuvjfKm",
        "outputId": "d51bb31d-ba11-411b-e2f6-b5c6846bddc4"
      },
      "outputs": [
        {
          "output_type": "execute_result",
          "data": {
            "text/plain": [
              "0.21621621621621623"
            ]
          },
          "metadata": {},
          "execution_count": 46
        }
      ],
      "source": [
        "metrics.f1_score(y_test, y_pred)"
      ]
    },
    {
      "cell_type": "markdown",
      "source": [
        "## Acurácia = $\\frac{VP + VN}{VP + VN + FP + FN}$\n",
        "ou seja, é a quantidade de acertos de diagnósticos do modelo."
      ],
      "metadata": {
        "id": "N4es4RIjgrF8"
      }
    },
    {
      "cell_type": "code",
      "source": [
        "metrics.accuracy_score(y_test, y_pred)"
      ],
      "metadata": {
        "colab": {
          "base_uri": "https://localhost:8080/"
        },
        "id": "9UX-7TRbkcpy",
        "outputId": "319b1259-2d98-47b9-f2ec-085ca8eaa4e9"
      },
      "execution_count": null,
      "outputs": [
        {
          "output_type": "execute_result",
          "data": {
            "text/plain": [
              "0.536"
            ]
          },
          "metadata": {},
          "execution_count": 48
        }
      ]
    }
  ],
  "metadata": {
    "colab": {
      "provenance": []
    },
    "kernelspec": {
      "display_name": "Python 3",
      "language": "python",
      "name": "python3"
    },
    "language_info": {
      "codemirror_mode": {
        "name": "ipython",
        "version": 3
      },
      "file_extension": ".py",
      "mimetype": "text/x-python",
      "name": "python",
      "nbconvert_exporter": "python",
      "pygments_lexer": "ipython3",
      "version": "3.12.0"
    }
  },
  "nbformat": 4,
  "nbformat_minor": 0
}